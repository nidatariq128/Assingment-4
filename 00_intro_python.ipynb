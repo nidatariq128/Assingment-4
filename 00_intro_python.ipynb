{
  "nbformat": 4,
  "nbformat_minor": 0,
  "metadata": {
    "colab": {
      "provenance": [],
      "authorship_tag": "ABX9TyPDwsGaEMskAcorPG4SW1Qw",
      "include_colab_link": true
    },
    "kernelspec": {
      "name": "python3",
      "display_name": "Python 3"
    },
    "language_info": {
      "name": "python"
    }
  },
  "cells": [
    {
      "cell_type": "markdown",
      "metadata": {
        "id": "view-in-github",
        "colab_type": "text"
      },
      "source": [
        "<a href=\"https://colab.research.google.com/github/nidatariq128/Assingment-4/blob/main/00_intro_python.ipynb\" target=\"_parent\"><img src=\"https://colab.research.google.com/assets/colab-badge.svg\" alt=\"Open In Colab\"/></a>"
      ]
    },
    {
      "cell_type": "markdown",
      "source": [
        "01_add_two_numbers line 8..ise type guard kehte hain is se ye faida hota h jb hm ise run kren tb hi chlta h other wise nhi"
      ],
      "metadata": {
        "id": "H5-lMLFUwGIm"
      }
    },
    {
      "cell_type": "code",
      "execution_count": 2,
      "metadata": {
        "colab": {
          "base_uri": "https://localhost:8080/"
        },
        "id": "tCTk09jAvYKx",
        "outputId": "e211b21b-9071-4d10-f6d1-8eed507e2c97"
      },
      "outputs": [
        {
          "output_type": "stream",
          "name": "stdout",
          "text": [
            "This application is for adding two numbers\n",
            "Enter your first number: 6\n",
            "Enter your second number: 6\n",
            "The total of 6 and 6 is 12\n"
          ]
        }
      ],
      "source": [
        "\n",
        "def add():\n",
        "    print(\"This application is for adding two numbers\")\n",
        "    first_number = int(input(\"Enter your first number: \"))\n",
        "    second_number = int(input(\"Enter your second number: \"))\n",
        "    total = first_number + second_number\n",
        "    print(f'The total of {first_number} and {second_number} is {total}')\n",
        "\n",
        "if __name__ == \"__main__\":\n",
        "    add()\n"
      ]
    },
    {
      "cell_type": "markdown",
      "source": [
        "02_agreement_bot...... input ka mtlb hmen user se koi info leni ho tb use hota h"
      ],
      "metadata": {
        "id": "17MPxw7wwYJr"
      }
    },
    {
      "cell_type": "code",
      "source": [
        "\n",
        "def bot():\n",
        "  animal= str(input(\"What is your favourite animal? \"))\n",
        "  print(f'My favourite animal is {animal}!')\n",
        "\n",
        "  if __name__ == \"__main__\":\n",
        "   bot()\n"
      ],
      "metadata": {
        "id": "ULld7kHxwZY-"
      },
      "execution_count": 5,
      "outputs": []
    },
    {
      "cell_type": "markdown",
      "source": [
        "03_fahrenheit_to_celsius... User se Fahrenheit mein temperature lena hai, aur usay Celsius mein convert karna ha"
      ],
      "metadata": {
        "id": "gd3kTHDwwnx-"
      }
    },
    {
      "cell_type": "code",
      "source": [
        "\n",
        "def temp():\n",
        "  print(\"This code for converting Fahrenheit to Celsius\")\n",
        "  fahrenheit_degree = float(input(\"Enter temperature in Fahrenheit: \"))\n",
        "  celsius_degree = (fahrenheit_degree - 32) * 5.0 / 9.0\n",
        "  print(f\"Temperature {fahrenheit_degree}F = {celsius_degree}C\")\n",
        "\n",
        "if __name__ == \"__main__\":\n",
        "  temp()"
      ],
      "metadata": {
        "colab": {
          "base_uri": "https://localhost:8080/"
        },
        "id": "6cWFZxEiwqgI",
        "outputId": "80237d78-7a95-4fe2-8dd3-50555dd6e69b"
      },
      "execution_count": 6,
      "outputs": [
        {
          "output_type": "stream",
          "name": "stdout",
          "text": [
            "This code for converting Fahrenheit to Celsius\n",
            "Enter temperature in Fahrenheit: 6\n",
            "Temperature 6.0F = -14.444444444444445C\n"
          ]
        }
      ]
    },
    {
      "cell_type": "markdown",
      "source": [
        "04_how_old_are_they"
      ],
      "metadata": {
        "id": "S2-Iez54w4gu"
      }
    },
    {
      "cell_type": "code",
      "source": [
        "def add_ages():\n",
        "  anthon: int = 21\n",
        "  beth: int = anthon + 6\n",
        "  chen: int = beth + 20\n",
        "  drew: int = chen + anthon\n",
        "  ethan: int = chen\n",
        "\n",
        "  print(\"Anthon is\", anthon)\n",
        "  print(\"Beth is\", beth)\n",
        "  print(\"Chen is\", chen)\n",
        "  print(\"Drew is\", drew)\n",
        "  print(\"Ethan is\", ethan)\n",
        "\n",
        "if __name__ == \"__main__\":\n",
        "  add_ages()\n",
        "\n"
      ],
      "metadata": {
        "colab": {
          "base_uri": "https://localhost:8080/"
        },
        "id": "lkwZRjacw66x",
        "outputId": "24e3ca6c-07be-4dc0-b61b-246231aa9b9e"
      },
      "execution_count": 7,
      "outputs": [
        {
          "output_type": "stream",
          "name": "stdout",
          "text": [
            "Anthon is 21\n",
            "Beth is 27\n",
            "Chen is 47\n",
            "Drew is 68\n",
            "Ethan is 47\n"
          ]
        }
      ]
    },
    {
      "cell_type": "markdown",
      "source": [
        "05_triangle_perimeter"
      ],
      "metadata": {
        "id": "thOx-7v-w_tl"
      }
    },
    {
      "cell_type": "code",
      "source": [
        "def main():\n",
        "\n",
        "    side1: float = float(input(\"What is the length of side 1? \"))\n",
        "    side2: float = float(input(\"What is the length of side 2? \"))\n",
        "    side3: float = float(input(\"What is the length of side 3? \"))\n",
        "\n",
        "    print(\"The perimeter of the triangle is \" + str(side1 + side2 + side3))\n",
        "\n",
        "if __name__ == '__main__':\n",
        "    main()"
      ],
      "metadata": {
        "colab": {
          "base_uri": "https://localhost:8080/"
        },
        "id": "eEibdwpFxCRA",
        "outputId": "ea5075a5-0c77-4e3c-ddf7-ecd6a4f51214"
      },
      "execution_count": 8,
      "outputs": [
        {
          "output_type": "stream",
          "name": "stdout",
          "text": [
            "What is the length of side 1? 5\n",
            "What is the length of side 2? 6\n",
            "What is the length of side 3? 8\n",
            "The perimeter of the triangle is 19.0\n"
          ]
        }
      ]
    },
    {
      "cell_type": "markdown",
      "source": [
        "06_square_number"
      ],
      "metadata": {
        "id": "OlW3qUH0xN09"
      }
    },
    {
      "cell_type": "code",
      "source": [
        "def main():\n",
        "    num: float = float(input(\"Type a number to see its square: \"))\n",
        "    print(str(num) + \" squared is \" + str(num ** 2)) # ** ye operato no. ka sqr root niklta h..number ko string mein convert is liy krte hyn taake usay text ke sath jor sakein.\n",
        "\n",
        "if __name__ == '__main__':\n",
        "    main()\n",
        ""
      ],
      "metadata": {
        "colab": {
          "base_uri": "https://localhost:8080/"
        },
        "id": "pPg2myR_xQPn",
        "outputId": "66d1e860-0d82-411c-8321-252e5f64f80d"
      },
      "execution_count": 9,
      "outputs": [
        {
          "output_type": "stream",
          "name": "stdout",
          "text": [
            "Type a number to see its square: 6.9\n",
            "6.9 squared is 47.61000000000001\n"
          ]
        }
      ]
    },
    {
      "cell_type": "code",
      "source": [],
      "metadata": {
        "id": "Lty6nw1Bxaiv"
      },
      "execution_count": null,
      "outputs": []
    }
  ]
}